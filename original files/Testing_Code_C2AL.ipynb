{
  "cells": [
    {
      "cell_type": "code",
      "execution_count": 2,
      "id": "8bf79568",
      "metadata": {
        "id": "8bf79568"
      },
      "outputs": [
        {
          "name": "stdout",
          "output_type": "stream",
          "text": [
            "WARNING:tensorflow:From c:\\Users\\ayush\\AppData\\Local\\Programs\\Python\\Python311\\Lib\\site-packages\\keras\\src\\losses.py:2976: The name tf.losses.sparse_softmax_cross_entropy is deprecated. Please use tf.compat.v1.losses.sparse_softmax_cross_entropy instead.\n",
            "\n"
          ]
        }
      ],
      "source": [
        "import os\n",
        "import cv2\n",
        "import random\n",
        "import numpy as np\n",
        "import tensorflow as tf\n",
        "import matplotlib.pyplot as plt\n",
        "\n",
        "from glob import glob\n",
        "from tqdm import tqdm\n",
        "from natsort import natsorted\n",
        "from tensorflow.keras.models import load_model\n",
        "from tensorflow.keras.optimizers import Adam\n",
        "from sklearn.model_selection import train_test_split\n",
        "from tensorflow.keras.preprocessing.image import ImageDataGenerator\n",
        "from sklearn.metrics import accuracy_score, precision_score, recall_score, roc_curve, auc, f1_score, roc_auc_score"
      ]
    },
    {
      "cell_type": "code",
      "execution_count": 3,
      "id": "8f29ba65",
      "metadata": {
        "id": "8f29ba65"
      },
      "outputs": [],
      "source": [
        "from tensorflow.keras import backend as K\n",
        "from tensorflow.keras.models import Model\n",
        "from tensorflow.keras.callbacks import EarlyStopping, ReduceLROnPlateau, ModelCheckpoint\n",
        "from tensorflow.keras.layers import Conv2D, BatchNormalization, Activation, MaxPool2D, Conv2DTranspose, Concatenate, Input, Dropout, Lambda, Add, Multiply"
      ]
    },
    {
      "cell_type": "code",
      "execution_count": 3,
      "id": "c9d8e925",
      "metadata": {
        "id": "c9d8e925"
      },
      "outputs": [],
      "source": [
        "# Patch dimension details\n",
        "Img_Width = 48\n",
        "Img_Height = 48\n",
        "Img_Channels = 1"
      ]
    },
    {
      "cell_type": "code",
      "execution_count": 4,
      "id": "f010d928",
      "metadata": {
        "id": "f010d928"
      },
      "outputs": [],
      "source": [
        "# Function for Sensitivity & Specificity\n",
        "\n",
        "def ce_loss(y_true, y_pred):\n",
        "    term_0 = (1 - y_true) * K.log(1 - y_pred + K.epsilon())\n",
        "    term_1 = y_true * K.log(y_pred + K.epsilon())\n",
        "    out = -K.mean(term_0 + term_1)                               # This is Binary Cross Entropy Loss\n",
        "    return out\n",
        "\n",
        "def acc_met(y_true,y_pred):\n",
        "    out = K.mean(K.equal(y_true, y_pred))\n",
        "    return out\n",
        "\n",
        "def sensitivity(y_true,y_pred):\n",
        "    y_true_f = K.flatten(y_true)\n",
        "    y_pred_f = K.flatten(y_pred)\n",
        "    neg_y_pred = 1 - y_pred_f\n",
        "    tp = K.sum(y_true_f * y_pred_f)\n",
        "    fn = K.sum(y_true_f * neg_y_pred)\n",
        "    return tp / (tp+fn+K.epsilon())\n",
        "\n",
        "def specificity(y_true,y_pred):\n",
        "    y_true_f = K.flatten(y_true)\n",
        "    y_pred_f = K.flatten(y_pred)\n",
        "    neg_y_true = 1 - y_true_f\n",
        "    neg_y_pred = 1 - y_pred_f\n",
        "    fp = K.sum(neg_y_true * y_pred_f)\n",
        "    tn = K.sum(neg_y_true * neg_y_pred)\n",
        "    return tn / (tn + fp + K.epsilon())"
      ]
    },
    {
      "cell_type": "code",
      "execution_count": 5,
      "id": "7e12cd41",
      "metadata": {
        "id": "7e12cd41"
      },
      "outputs": [
        {
          "name": "stdout",
          "output_type": "stream",
          "text": [
            "WARNING:tensorflow:From c:\\Users\\ayush\\AppData\\Local\\Programs\\Python\\Python311\\Lib\\site-packages\\keras\\src\\backend.py:1398: The name tf.executing_eagerly_outside_functions is deprecated. Please use tf.compat.v1.executing_eagerly_outside_functions instead.\n",
            "\n"
          ]
        },
        {
          "ename": "ValueError",
          "evalue": "bad marshal data (unknown type code)",
          "output_type": "error",
          "traceback": [
            "\u001b[1;31m---------------------------------------------------------------------------\u001b[0m",
            "\u001b[1;31mValueError\u001b[0m                                Traceback (most recent call last)",
            "Cell \u001b[1;32mIn[5], line 2\u001b[0m\n\u001b[0;32m      1\u001b[0m \u001b[38;5;66;03m# Loading the model ..\u001b[39;00m\n\u001b[1;32m----> 2\u001b[0m seg_model \u001b[38;5;241m=\u001b[39m \u001b[43mload_model\u001b[49m\u001b[43m(\u001b[49m\u001b[38;5;124;43m'\u001b[39;49m\u001b[38;5;124;43mUNet_JND_EOphtha.h5\u001b[39;49m\u001b[38;5;124;43m'\u001b[39;49m\u001b[43m,\u001b[49m\u001b[43m \u001b[49m\u001b[43mcustom_objects\u001b[49m\u001b[38;5;241;43m=\u001b[39;49m\u001b[43m{\u001b[49m\u001b[38;5;124;43m\"\u001b[39;49m\u001b[38;5;124;43mce_loss\u001b[39;49m\u001b[38;5;124;43m\"\u001b[39;49m\u001b[43m:\u001b[49m\u001b[43mce_loss\u001b[49m\u001b[43m,\u001b[49m\u001b[43m \u001b[49m\u001b[38;5;124;43m\"\u001b[39;49m\u001b[38;5;124;43macc_met\u001b[39;49m\u001b[38;5;124;43m\"\u001b[39;49m\u001b[43m:\u001b[49m\u001b[43macc_met\u001b[49m\u001b[43m,\u001b[49m\u001b[43m \u001b[49m\u001b[38;5;124;43m\"\u001b[39;49m\u001b[38;5;124;43msensitivity\u001b[39;49m\u001b[38;5;124;43m\"\u001b[39;49m\u001b[43m:\u001b[49m\u001b[43m \u001b[49m\u001b[43msensitivity\u001b[49m\u001b[43m,\u001b[49m\u001b[43m \u001b[49m\u001b[38;5;124;43m\"\u001b[39;49m\u001b[38;5;124;43mspecificity\u001b[39;49m\u001b[38;5;124;43m\"\u001b[39;49m\u001b[43m:\u001b[49m\u001b[43m \u001b[49m\u001b[43mspecificity\u001b[49m\u001b[43m}\u001b[49m\u001b[43m)\u001b[49m\n",
            "File \u001b[1;32mc:\\Users\\ayush\\AppData\\Local\\Programs\\Python\\Python311\\Lib\\site-packages\\keras\\src\\saving\\saving_api.py:262\u001b[0m, in \u001b[0;36mload_model\u001b[1;34m(filepath, custom_objects, compile, safe_mode, **kwargs)\u001b[0m\n\u001b[0;32m    254\u001b[0m     \u001b[38;5;28;01mreturn\u001b[39;00m saving_lib\u001b[38;5;241m.\u001b[39mload_model(\n\u001b[0;32m    255\u001b[0m         filepath,\n\u001b[0;32m    256\u001b[0m         custom_objects\u001b[38;5;241m=\u001b[39mcustom_objects,\n\u001b[0;32m    257\u001b[0m         \u001b[38;5;28mcompile\u001b[39m\u001b[38;5;241m=\u001b[39m\u001b[38;5;28mcompile\u001b[39m,\n\u001b[0;32m    258\u001b[0m         safe_mode\u001b[38;5;241m=\u001b[39msafe_mode,\n\u001b[0;32m    259\u001b[0m     )\n\u001b[0;32m    261\u001b[0m \u001b[38;5;66;03m# Legacy case.\u001b[39;00m\n\u001b[1;32m--> 262\u001b[0m \u001b[38;5;28;01mreturn\u001b[39;00m \u001b[43mlegacy_sm_saving_lib\u001b[49m\u001b[38;5;241;43m.\u001b[39;49m\u001b[43mload_model\u001b[49m\u001b[43m(\u001b[49m\n\u001b[0;32m    263\u001b[0m \u001b[43m    \u001b[49m\u001b[43mfilepath\u001b[49m\u001b[43m,\u001b[49m\u001b[43m \u001b[49m\u001b[43mcustom_objects\u001b[49m\u001b[38;5;241;43m=\u001b[39;49m\u001b[43mcustom_objects\u001b[49m\u001b[43m,\u001b[49m\u001b[43m \u001b[49m\u001b[38;5;28;43mcompile\u001b[39;49m\u001b[38;5;241;43m=\u001b[39;49m\u001b[38;5;28;43mcompile\u001b[39;49m\u001b[43m,\u001b[49m\u001b[43m \u001b[49m\u001b[38;5;241;43m*\u001b[39;49m\u001b[38;5;241;43m*\u001b[39;49m\u001b[43mkwargs\u001b[49m\n\u001b[0;32m    264\u001b[0m \u001b[43m\u001b[49m\u001b[43m)\u001b[49m\n",
            "File \u001b[1;32mc:\\Users\\ayush\\AppData\\Local\\Programs\\Python\\Python311\\Lib\\site-packages\\keras\\src\\utils\\traceback_utils.py:70\u001b[0m, in \u001b[0;36mfilter_traceback.<locals>.error_handler\u001b[1;34m(*args, **kwargs)\u001b[0m\n\u001b[0;32m     67\u001b[0m     filtered_tb \u001b[38;5;241m=\u001b[39m _process_traceback_frames(e\u001b[38;5;241m.\u001b[39m__traceback__)\n\u001b[0;32m     68\u001b[0m     \u001b[38;5;66;03m# To get the full stack trace, call:\u001b[39;00m\n\u001b[0;32m     69\u001b[0m     \u001b[38;5;66;03m# `tf.debugging.disable_traceback_filtering()`\u001b[39;00m\n\u001b[1;32m---> 70\u001b[0m     \u001b[38;5;28;01mraise\u001b[39;00m e\u001b[38;5;241m.\u001b[39mwith_traceback(filtered_tb) \u001b[38;5;28;01mfrom\u001b[39;00m \u001b[38;5;28;01mNone\u001b[39;00m\n\u001b[0;32m     71\u001b[0m \u001b[38;5;28;01mfinally\u001b[39;00m:\n\u001b[0;32m     72\u001b[0m     \u001b[38;5;28;01mdel\u001b[39;00m filtered_tb\n",
            "File \u001b[1;32mc:\\Users\\ayush\\AppData\\Local\\Programs\\Python\\Python311\\Lib\\site-packages\\keras\\src\\utils\\generic_utils.py:102\u001b[0m, in \u001b[0;36mfunc_load\u001b[1;34m(code, defaults, closure, globs)\u001b[0m\n\u001b[0;32m    100\u001b[0m \u001b[38;5;28;01mexcept\u001b[39;00m (\u001b[38;5;167;01mUnicodeEncodeError\u001b[39;00m, binascii\u001b[38;5;241m.\u001b[39mError):\n\u001b[0;32m    101\u001b[0m     raw_code \u001b[38;5;241m=\u001b[39m code\u001b[38;5;241m.\u001b[39mencode(\u001b[38;5;124m\"\u001b[39m\u001b[38;5;124mraw_unicode_escape\u001b[39m\u001b[38;5;124m\"\u001b[39m)\n\u001b[1;32m--> 102\u001b[0m code \u001b[38;5;241m=\u001b[39m \u001b[43mmarshal\u001b[49m\u001b[38;5;241;43m.\u001b[39;49m\u001b[43mloads\u001b[49m\u001b[43m(\u001b[49m\u001b[43mraw_code\u001b[49m\u001b[43m)\u001b[49m\n\u001b[0;32m    103\u001b[0m \u001b[38;5;28;01mif\u001b[39;00m globs \u001b[38;5;129;01mis\u001b[39;00m \u001b[38;5;28;01mNone\u001b[39;00m:\n\u001b[0;32m    104\u001b[0m     globs \u001b[38;5;241m=\u001b[39m \u001b[38;5;28mglobals\u001b[39m()\n",
            "\u001b[1;31mValueError\u001b[0m: bad marshal data (unknown type code)"
          ]
        }
      ],
      "source": [
        "# Loading the model ..\n",
        "seg_model = load_model('UNet_JND_EOphtha.h5', custom_objects={\"ce_loss\":ce_loss, \"acc_met\":acc_met, \"sensitivity\": sensitivity, \"specificity\": specificity})"
      ]
    },
    {
      "cell_type": "code",
      "execution_count": null,
      "id": "0f2244e0",
      "metadata": {
        "id": "0f2244e0"
      },
      "outputs": [],
      "source": [
        "######################### Testing the model for single image #########################"
      ]
    },
    {
      "cell_type": "code",
      "execution_count": 4,
      "id": "73ee1d17",
      "metadata": {
        "id": "73ee1d17"
      },
      "outputs": [
        {
          "name": "stdout",
          "output_type": "stream",
          "text": [
            "(1934, 1960, 3)\n"
          ]
        }
      ],
      "source": [
        "# Loading the image and applying CLAHE\n",
        "\n",
        "img = cv2.imread('data\\im09.jpg')\n",
        "print(img.shape)\n",
        "img = cv2.cvtColor(img, cv2.COLOR_BGR2RGB)\n",
        "\n",
        "# The initial processing of the image\n",
        "img_g = img[:,:,1]\n",
        "\n",
        "# Applying CLAHE as pre-processing step\n",
        "clahe = cv2.createCLAHE(clipLimit = 8, tileGridSize=(8,8))\n",
        "img_c = clahe.apply(img_g)"
      ]
    },
    {
      "cell_type": "code",
      "execution_count": 5,
      "id": "e6c39e50",
      "metadata": {
        "id": "e6c39e50"
      },
      "outputs": [
        {
          "name": "stdout",
          "output_type": "stream",
          "text": [
            "(1934, 1960)\n"
          ]
        }
      ],
      "source": [
        "# loading the ground truth\n",
        "\n",
        "[m,n] = img_c.shape\n",
        "\n",
        "gt = cv2.imread('data\\im09.jpg',0)\n",
        "print(gt.shape)\n",
        "gt = gt / 255.0\n",
        "gt = (gt > 0.5)"
      ]
    },
    {
      "cell_type": "code",
      "execution_count": null,
      "id": "031361cd",
      "metadata": {
        "id": "031361cd"
      },
      "outputs": [],
      "source": [
        "tot = 0\n",
        "step = 8\n",
        "for i in range(0,m,step):\n",
        "    for j in range(0,n,step):\n",
        "        if((i+48)>(m-1) or (j+48)>(n-1)):\n",
        "            pass\n",
        "        else:\n",
        "            tot = tot + 1"
      ]
    },
    {
      "cell_type": "code",
      "execution_count": null,
      "id": "dd67d5f1",
      "metadata": {
        "id": "dd67d5f1"
      },
      "outputs": [],
      "source": [
        "threshold = 0.30 # increase this threshold if more false positives are coming\n",
        "cnt1 = 0\n",
        "cnt2 = 0\n",
        "iarr = []\n",
        "jarr = []\n",
        "patches_img = np.zeros((tot,48,48,1))\n",
        "patches_gt = np.zeros((tot,48,48,1))\n",
        "final_res = np.zeros((m,n))\n",
        "\n",
        "for i in range(0,m,step):\n",
        "    for j in range(0,n,step):\n",
        "        if((i+48)>(m-1) or (j+48)>(n-1)):\n",
        "            pass\n",
        "        else:\n",
        "            # getting image patches\n",
        "            patch_img = img_c[i:i+48,j:j+48]\n",
        "            patch_img = np.expand_dims(patch_img, axis=-1)\n",
        "            patch_img = np.expand_dims(patch_img, axis=0)\n",
        "            patches_img[cnt1] = patch_img\n",
        "            # getting gt patches\n",
        "            patch_gt = gt[i:i+48,j:j+48]\n",
        "            patch_gt = np.expand_dims(patch_gt, axis=-1)\n",
        "            patch_gt = np.expand_dims(patch_gt, axis=0)\n",
        "            patches_gt[cnt1] = patch_gt\n",
        "            cnt1 = cnt1 + 1\n",
        "            iarr.append(i)\n",
        "            jarr.append(j)\n",
        "\n",
        "inter_res,_ = seg_model.predict([patches_img,patches_gt],verbose=False)\n",
        "inter_res = (inter_res > threshold)\n",
        "for k in range(cnt1):\n",
        "    final_res[iarr[k]:(iarr[k]+48),jarr[k]:(jarr[k]+48)] = final_res[iarr[k]:iarr[k]+48,jarr[k]:jarr[k]+48] + np.squeeze(inter_res[cnt2])\n",
        "    cnt2 = cnt2 + 1"
      ]
    },
    {
      "cell_type": "code",
      "execution_count": null,
      "id": "476dc868",
      "metadata": {
        "id": "476dc868"
      },
      "outputs": [],
      "source": [
        "psm_th2 = final_res / np.max(final_res)\n",
        "psm_th2 = (psm_th2 > 0.05).astype(float)"
      ]
    },
    {
      "cell_type": "code",
      "execution_count": null,
      "id": "9faa94c8",
      "metadata": {
        "id": "9faa94c8"
      },
      "outputs": [],
      "source": [
        "fig = plt.figure()\n",
        "fig.set_size_inches(25,25)\n",
        "\n",
        "ax1 = fig.add_subplot(121)\n",
        "ax1.imshow(img_c, cmap='gray')\n",
        "ax1.set_title(\"Input Fundus Image\")\n",
        "ax1.axis(False)\n",
        "ax1.grid(False)\n",
        "\n",
        "ax2 = fig.add_subplot(122)\n",
        "ax2.imshow(psm_th2, cmap=\"gray\")\n",
        "ax2.set_title(\"Predicted Segmented Map\")\n",
        "ax2.axis(False)\n",
        "ax2.grid(False)\n",
        "\n",
        "fig.tight_layout()\n",
        "plt.show()"
      ]
    }
  ],
  "metadata": {
    "accelerator": "GPU",
    "colab": {
      "gpuType": "T4",
      "provenance": []
    },
    "kernelspec": {
      "display_name": "Python 3",
      "name": "python3"
    },
    "language_info": {
      "codemirror_mode": {
        "name": "ipython",
        "version": 3
      },
      "file_extension": ".py",
      "mimetype": "text/x-python",
      "name": "python",
      "nbconvert_exporter": "python",
      "pygments_lexer": "ipython3",
      "version": "3.11.9"
    }
  },
  "nbformat": 4,
  "nbformat_minor": 5
}
